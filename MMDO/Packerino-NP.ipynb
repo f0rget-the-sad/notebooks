{
 "cells": [
  {
   "cell_type": "code",
   "execution_count": 88,
   "metadata": {},
   "outputs": [],
   "source": [
    "from typing import Iterable, List, Dict\n",
    "from collections import defaultdict\n",
    "from operator import itemgetter"
   ]
  },
  {
   "cell_type": "code",
   "execution_count": 56,
   "metadata": {},
   "outputs": [
    {
     "data": {
      "text/plain": [
       "[23, 3, 51, 20, 51, 42, 52, 12, 4, 7, 59, 58, 25, 94, 18]"
      ]
     },
     "execution_count": 56,
     "metadata": {},
     "output_type": "execute_result"
    }
   ],
   "source": [
    "cargos = [int(c) for c in \"23 3 51 20 51 42 52 12 4 7 59 58 25 94 18\".split()]\n",
    "cargos"
   ]
  },
  {
   "cell_type": "code",
   "execution_count": 57,
   "metadata": {},
   "outputs": [],
   "source": [
    "def NFA(cargos: Iterable[int], container_size: int) -> Dict:\n",
    "    containers = defaultdict(list)\n",
    "    container_n = 1\n",
    "    cur_weight = 0\n",
    "    for c in cargos:\n",
    "        if cur_weight + c > container_size:\n",
    "            cur_weight = c\n",
    "            container_n += 1\n",
    "        else:\n",
    "            cur_weight += c\n",
    "        containers[container_n].append(c)\n",
    "    return containers"
   ]
  },
  {
   "cell_type": "code",
   "execution_count": 58,
   "metadata": {},
   "outputs": [
    {
     "data": {
      "text/plain": [
       "defaultdict(list,\n",
       "            {1: [23, 3, 51, 20],\n",
       "             2: [51, 42],\n",
       "             3: [52, 12, 4, 7],\n",
       "             4: [59],\n",
       "             5: [58, 25],\n",
       "             6: [94],\n",
       "             7: [18]})"
      ]
     },
     "execution_count": 58,
     "metadata": {},
     "output_type": "execute_result"
    }
   ],
   "source": [
    "NFA(cargos, 100)"
   ]
  },
  {
   "cell_type": "code",
   "execution_count": 85,
   "metadata": {},
   "outputs": [],
   "source": [
    "def FFA(cargos: Iterable[int], container_size: int) -> defaultdict:\n",
    "    containers = defaultdict(list)\n",
    "    containers_weight = defaultdict(int)\n",
    "    container_n = 1\n",
    "    containers_weight[container_n] = 0\n",
    "    \n",
    "    # helper function to find and fill avail containers\n",
    "    def find_free_cont(c):\n",
    "        for k, v in containers_weight.items():\n",
    "            if v + c <= container_size:\n",
    "                containers[k].append(c)\n",
    "                containers_weight[k] += c\n",
    "                return True\n",
    "        return False\n",
    "\n",
    "    for c in cargos:\n",
    "        if containers_weight[container_n] + c > container_size:\n",
    "            if not find_free_cont(c):\n",
    "                container_n += 1\n",
    "                containers_weight[container_n] = c\n",
    "                containers[container_n].append(c)\n",
    "        else:\n",
    "            containers_weight[container_n] += c\n",
    "            containers[container_n].append(c)\n",
    "        \n",
    "    return containers"
   ]
  },
  {
   "cell_type": "code",
   "execution_count": 87,
   "metadata": {},
   "outputs": [
    {
     "name": "stdout",
     "output_type": "stream",
     "text": [
      "[23, 3, 51, 20, 51, 42, 52, 12, 4, 7, 59, 58, 25, 94, 18]\n"
     ]
    },
    {
     "data": {
      "text/plain": [
       "defaultdict(list,\n",
       "            {1: [23, 3, 51, 20],\n",
       "             2: [51, 42],\n",
       "             3: [52, 12, 4, 7, 18],\n",
       "             4: [59],\n",
       "             5: [58, 25],\n",
       "             6: [94]})"
      ]
     },
     "execution_count": 87,
     "metadata": {},
     "output_type": "execute_result"
    }
   ],
   "source": [
    "FFA(cargos, 100)"
   ]
  },
  {
   "cell_type": "code",
   "execution_count": 90,
   "metadata": {},
   "outputs": [],
   "source": [
    "def WFA(cargos: Iterable[int], container_size: int) -> defaultdict:\n",
    "    containers = defaultdict(list)\n",
    "    containers_weight = defaultdict(int)\n",
    "    container_n = 1\n",
    "    containers_weight[container_n] = 0\n",
    "    \n",
    "    # helper function to get min weight container\n",
    "    def find_min_weight(c):\n",
    "        k = min(containers_weight.items(), key=itemgetter(1))[0]\n",
    "        if containers_weight[k] + c <= container_size:\n",
    "            containers[k].append(c)\n",
    "            containers_weight[k] += c\n",
    "            return True\n",
    "        return False\n",
    "\n",
    "    for c in cargos:\n",
    "        if containers_weight[container_n] + c > container_size:\n",
    "            if not find_min_weight(c):\n",
    "                container_n += 1\n",
    "                containers_weight[container_n] = c\n",
    "                containers[container_n].append(c)\n",
    "        else:\n",
    "            containers_weight[container_n] += c\n",
    "            containers[container_n].append(c)\n",
    "        \n",
    "    return containers"
   ]
  },
  {
   "cell_type": "code",
   "execution_count": 91,
   "metadata": {},
   "outputs": [
    {
     "data": {
      "text/plain": [
       "defaultdict(list,\n",
       "            {1: [23, 3, 51, 20],\n",
       "             2: [51, 42],\n",
       "             3: [52, 12, 4, 7],\n",
       "             4: [59, 18],\n",
       "             5: [58, 25],\n",
       "             6: [94]})"
      ]
     },
     "execution_count": 91,
     "metadata": {},
     "output_type": "execute_result"
    }
   ],
   "source": [
    "WFA(cargos, 100)"
   ]
  },
  {
   "cell_type": "code",
   "execution_count": 104,
   "metadata": {},
   "outputs": [],
   "source": [
    "def generic_alg(cargos: Iterable[int], container_size: int) -> defaultdict:\n",
    "    containers = defaultdict(list)\n",
    "    containers_weight = defaultdict(int)\n",
    "    container_n = 1\n",
    "    containers_weight[container_n] = 0\n",
    "    \n",
    "    # helper function to get min weight container\n",
    "    def find_max_avail_weight(c):\n",
    "        # max_weight = 0\n",
    "        max_weight_k = None\n",
    "        for k, v in containers_weight.items():\n",
    "            if v + c <= container_size:\n",
    "                if max_weight_k is None or containers_weight[max_weight_k] < v:\n",
    "                    max_weight_k = k\n",
    "       #  print(max_weight_k)\n",
    "        return max_weight_k\n",
    "\n",
    "\n",
    "    for c in cargos:\n",
    "        to_append = container_n\n",
    "        if containers_weight[to_append] + c > container_size:\n",
    "            to_append = find_max_avail_weight(c)\n",
    "            if to_append is None:\n",
    "                # can't append cargo to existing container, so add new\n",
    "                container_n += 1\n",
    "                containers_weight[container_n] = c\n",
    "                containers[container_n].append(c)\n",
    "                continue\n",
    "        containers_weight[to_append] += c\n",
    "        containers[to_append].append(c)\n",
    "        \n",
    "    return containers"
   ]
  },
  {
   "cell_type": "code",
   "execution_count": 105,
   "metadata": {},
   "outputs": [
    {
     "data": {
      "text/plain": [
       "defaultdict(list,\n",
       "            {1: [23, 3, 51, 20],\n",
       "             2: [51, 42],\n",
       "             3: [52, 12, 4, 7, 18],\n",
       "             4: [59],\n",
       "             5: [58, 25],\n",
       "             6: [94]})"
      ]
     },
     "execution_count": 105,
     "metadata": {},
     "output_type": "execute_result"
    }
   ],
   "source": [
    "BFA(cargos, 100)"
   ]
  }
 ],
 "metadata": {
  "kernelspec": {
   "display_name": "Python 3",
   "language": "python",
   "name": "python3"
  },
  "language_info": {
   "codemirror_mode": {
    "name": "ipython",
    "version": 3
   },
   "file_extension": ".py",
   "mimetype": "text/x-python",
   "name": "python",
   "nbconvert_exporter": "python",
   "pygments_lexer": "ipython3",
   "version": "3.8.2"
  }
 },
 "nbformat": 4,
 "nbformat_minor": 4
}
