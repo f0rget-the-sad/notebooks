{
 "cells": [
  {
   "cell_type": "code",
   "execution_count": 2,
   "metadata": {},
   "outputs": [],
   "source": [
    "from collections import namedtuple"
   ]
  },
  {
   "cell_type": "code",
   "execution_count": 54,
   "metadata": {},
   "outputs": [
    {
     "name": "stdout",
     "output_type": "stream",
     "text": [
      "9.5\n",
      "7.5\n",
      "5.0\n",
      "3\n",
      "3.0\n",
      "2.0\n"
     ]
    }
   ],
   "source": [
    "# Data transformation to internal representation\n",
    "Clothes_elem = namedtuple(\"Clothes_elem\", [\"name\", \"weight\", \"price\"])\n",
    "# TODO: add names?\n",
    "clothes_elements = [\n",
    "    Clothes_elem(\"Empty\", 0, 0),\n",
    "    Clothes_elem(\"Blaser\", 0.5, 6),\n",
    "    Clothes_elem(\"Pea jacket\", 4, 48),\n",
    "    Clothes_elem(\"Cotton pants\", 2, 24),\n",
    "    Clothes_elem(\"Flip flops\", 0.5, 6),\n",
    "    Clothes_elem(\"Jeans\", 1, 12),\n",
    "    Clothes_elem(\"Cap\", 0.5, 6),\n",
    "    Clothes_elem(\"Sneakers\", 1, 12),\n",
    "    Clothes_elem(\"Jacket\", 2, 24),\n",
    "    Clothes_elem(\"Coat\", 3, 36),\n",
    "    Clothes_elem(\"Gloves\", 0.5, 6),\n",
    "    Clothes_elem(\"Sweater\", 1, 12),\n",
    "    Clothes_elem(\"Shirt\", 0.5, 6),\n",
    "    Clothes_elem(\"T-shirt\", 0.5, 6),\n",
    "    Clothes_elem(\"Shoe\", 1.5, 18),\n",
    "    Clothes_elem(\"Boots\", 2, 24),\n",
    "    Clothes_elem(\"Hat\", 1, 12),\n",
    "    Clothes_elem(\"Shorts\", 0.5, 6),\n",
    "]\n",
    "\n",
    "def weight_of_clothes_elem(elements):\n",
    "    return sum([e.weight for e in elements])\n",
    "\n",
    "class ClothesSet(object):\n",
    "    def __init__(self, elements_ids, min_t, max_t):\n",
    "        self.elements_ids = set(elements_ids)\n",
    "        self.elements = set(clothes_elements[i] for i in self.elements_ids\n",
    "                           if i != 0) # exclude empty element\n",
    "        # assert len(self.elements) == 5\n",
    "        self.min_t = min_t\n",
    "        self.max_t = max_t\n",
    "        self.weight = weight_of_clothes_elem(self.elements)\n",
    "# print(ClothesSet((16, 2, 10, 3, 15), -100, -10).elements)\n",
    "clothes_sets = [\n",
    "    ClothesSet((16, 2, 10, 3, 15), -100, -10),\n",
    "    ClothesSet((16, 9, 10, 5, 15), -9, 0),\n",
    "    ClothesSet((6, 8, 0, 5, 14), 1, 10),\n",
    "    ClothesSet((0, 11, 0, 5, 7), 11, 20),\n",
    "    ClothesSet((1, 12, 0, 5, 7), 21, 30),\n",
    "    ClothesSet((1, 13, 0, 17, 4), 31, 100),\n",
    "]\n",
    "for e in clothes_sets:\n",
    "    print(e.weight)\n",
    "\n",
    "OWERPICE_PER_ELEM = 2\n",
    "PRICE_PER_KG = 10"
   ]
  },
  {
   "cell_type": "code",
   "execution_count": 51,
   "metadata": {},
   "outputs": [],
   "source": [
    "# figure out needed clothes from temperature\n",
    "def get_set_by_temp(temperature: float) -> ClothesSet:\n",
    "    for s in clothes_sets:\n",
    "        if s.min_t < temperature < s.max_t:\n",
    "            return s\n",
    "\n",
    "def price_to_buy_clothes(temperature: float, curent_clothes: ClothesSet) -> float:\n",
    "    assert -100 < temperature < 100, \"Unsuported temperature\"\n",
    "    needed_clothes = get_set_by_temp(temperature)\n",
    "    price = curent_clothes.weight * PRICE_PER_KG\n",
    "    missing_elements = needed_clothes.elements - curent_clothes.elements\n",
    "    price += sum([e.price + OWERPICE_PER_ELEM for e in missing_elements])\n",
    "    return price\n",
    "\n"
   ]
  },
  {
   "cell_type": "code",
   "execution_count": 56,
   "metadata": {},
   "outputs": [
    {
     "data": {
      "text/plain": [
       "103.0"
      ]
     },
     "execution_count": 56,
     "metadata": {},
     "output_type": "execute_result"
    }
   ],
   "source": [
    "price_to_buy_clothes(12.3, clothes_sets[1])"
   ]
  }
 ],
 "metadata": {
  "kernelspec": {
   "display_name": "Python 3",
   "language": "python",
   "name": "python3"
  },
  "language_info": {
   "codemirror_mode": {
    "name": "ipython",
    "version": 3
   },
   "file_extension": ".py",
   "mimetype": "text/x-python",
   "name": "python",
   "nbconvert_exporter": "python",
   "pygments_lexer": "ipython3",
   "version": "3.8.2"
  }
 },
 "nbformat": 4,
 "nbformat_minor": 4
}
