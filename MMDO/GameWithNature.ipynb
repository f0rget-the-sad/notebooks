{
 "cells": [
  {
   "cell_type": "code",
   "execution_count": 1,
   "metadata": {},
   "outputs": [],
   "source": [
    "import numpy as np\n",
    "# I know that np for this may be overkill, but I want to practice with it a bit"
   ]
  },
  {
   "cell_type": "code",
   "execution_count": 2,
   "metadata": {},
   "outputs": [],
   "source": [
    "matrix = np.array([\n",
    "    [20, 30, 15],\n",
    "    [75, 20, 35],\n",
    "    [25, 80, 25],\n",
    "    [85,  5, 45]\n",
    "])"
   ]
  },
  {
   "cell_type": "code",
   "execution_count": 3,
   "metadata": {},
   "outputs": [],
   "source": [
    "def buid_risk(matrix):\n",
    "    maxes = np.amax(matrix, axis=0)\n",
    "    risk = matrix.copy()\n",
    "    for n, col in enumerate(risk.T):\n",
    "        for i in range(len(col)):\n",
    "            col[i] = maxes[n] - col[i]\n",
    "    return risk"
   ]
  },
  {
   "cell_type": "code",
   "execution_count": 4,
   "metadata": {},
   "outputs": [],
   "source": [
    "def weld(matrix):\n",
    "    a = np.amin(matrix, axis=1)\n",
    "    print(f\"ai = {a}\")\n",
    "    return np.where(a == np.amax(a))[0]"
   ]
  },
  {
   "cell_type": "code",
   "execution_count": 5,
   "metadata": {},
   "outputs": [
    {
     "name": "stdout",
     "output_type": "stream",
     "text": [
      "ai = [15 20 25  5]\n",
      "Optimal strategy by Weld is A[3]\n"
     ]
    }
   ],
   "source": [
    "print(f\"Optimal strategy by Weld is A{[i+1 for i in weld(matrix)]}\")"
   ]
  },
  {
   "cell_type": "code",
   "execution_count": 6,
   "metadata": {},
   "outputs": [],
   "source": [
    "def sevidge(matrix):\n",
    "    risk = buid_risk(matrix)\n",
    "    y = np.amax(risk, axis=1)\n",
    "    print(f\"yi = {y}\")\n",
    "    return np.where(y == np.amin(y))[0]"
   ]
  },
  {
   "cell_type": "code",
   "execution_count": 7,
   "metadata": {},
   "outputs": [
    {
     "name": "stdout",
     "output_type": "stream",
     "text": [
      "yi = [65 60 60 75]\n",
      "Optimal strategy by Sevidge is A[2, 3]\n"
     ]
    }
   ],
   "source": [
    "print(f\"Optimal strategy by Sevidge is A{[i+1 for i in sevidge(matrix)]}\")"
   ]
  },
  {
   "cell_type": "code",
   "execution_count": 8,
   "metadata": {},
   "outputs": [],
   "source": [
    "def hurwicz(matrix, x):\n",
    "    a = np.amin(matrix, axis=1)\n",
    "    w = np.max(matrix, axis=1)\n",
    "    print(f\"a = {a}\")\n",
    "    print(f\"w = {w}\")\n",
    "    h = []\n",
    "    for ai, wi in zip(a, w):\n",
    "        h.append(int(x * ai + (1 - x) * wi))\n",
    "    print(f\"h = {h}\")\n",
    "    return np.where(h == np.amax(h))[0]"
   ]
  },
  {
   "cell_type": "code",
   "execution_count": 9,
   "metadata": {},
   "outputs": [
    {
     "name": "stdout",
     "output_type": "stream",
     "text": [
      "a = [15 20 25  5]\n",
      "w = [30 75 80 85]\n",
      "h = [21, 42, 47, 37]\n",
      "Optimal strategy by Hurwicz is A[3]\n"
     ]
    }
   ],
   "source": [
    "print(f\"Optimal strategy by Hurwicz is A{[i+1 for i in hurwicz(matrix, x=0.6)]}\")"
   ]
  }
 ],
 "metadata": {
  "kernelspec": {
   "display_name": "Python 3",
   "language": "python",
   "name": "python3"
  },
  "language_info": {
   "codemirror_mode": {
    "name": "ipython",
    "version": 3
   },
   "file_extension": ".py",
   "mimetype": "text/x-python",
   "name": "python",
   "nbconvert_exporter": "python",
   "pygments_lexer": "ipython3",
   "version": "3.8.2"
  }
 },
 "nbformat": 4,
 "nbformat_minor": 4
}
