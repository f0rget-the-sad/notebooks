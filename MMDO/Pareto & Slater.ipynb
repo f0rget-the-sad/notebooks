{
 "cells": [
  {
   "cell_type": "code",
   "execution_count": 1,
   "metadata": {},
   "outputs": [],
   "source": [
    "from typing import Tuple, List\n",
    "from collections import OrderedDict\n",
    "from copy import deepcopy\n",
    "import matplotlib.pyplot as plt\n",
    "from operator import itemgetter"
   ]
  },
  {
   "cell_type": "code",
   "execution_count": 2,
   "metadata": {},
   "outputs": [],
   "source": [
    "# parse input\n",
    "def make_criterias(A: List[int]) -> (List[int], List[int]):\n",
    "    Q1 = []\n",
    "    Q2 = []\n",
    "    for i in A:\n",
    "        assert(i < 100)\n",
    "        Q1.append(i//10)\n",
    "        Q2.append(i%10)\n",
    "    return (Q1, Q2)"
   ]
  },
  {
   "cell_type": "code",
   "execution_count": null,
   "metadata": {},
   "outputs": [],
   "source": [
    "A = [79, 95, 4, 37, 92, 95, 12, 52, 70, 14]\n",
    "N = len(A)"
   ]
  },
  {
   "cell_type": "code",
   "execution_count": null,
   "metadata": {},
   "outputs": [],
   "source": [
    "# Row 1\n",
    "A = [53, 66, 97, 48, 47, 72, 16, 86, 12, 59, 77, 51, 53, 97, 32, 3, 35, 51, 7, 98]\n",
    "N = len(A)"
   ]
  },
  {
   "cell_type": "code",
   "execution_count": null,
   "metadata": {},
   "outputs": [],
   "source": [
    "# Row 2\n",
    "A = [49, 54, 61, 6, 34, 3, 25, 84, 28, 97, 63, 33, 15, 60, 81, 14, 85, 97, 51, 97]\n",
    "N = len(A)"
   ]
  },
  {
   "cell_type": "code",
   "execution_count": 3,
   "metadata": {},
   "outputs": [],
   "source": [
    "# Row 3\n",
    "A = [8, 29, 49, 13, 79, 34, 16, 14, 85, 75, 65, 86, 30, 26, 92, 16, 29, 69, 52, 9]\n",
    "N = len(A)"
   ]
  },
  {
   "cell_type": "code",
   "execution_count": null,
   "metadata": {},
   "outputs": [],
   "source": [
    "# Rows 1-3\n",
    "A = [53, 66, 97, 48, 47, 72, 16, 86, 12, 59, 77, 51, 53, 97, 32, 3, 35, 51, 7, 98, \n",
    "     49, 54, 61, 6, 34, 3, 25, 84, 28, 97, 63, 33, 15, 60, 81, 14, 85, 97, 51, 97,\n",
    "     8, 29, 49, 13, 79, 34, 16, 14, 85, 75, 65, 86, 30, 26, 92, 16, 29, 69, 52, 9]\n",
    "N = len(A)"
   ]
  },
  {
   "cell_type": "code",
   "execution_count": 4,
   "metadata": {},
   "outputs": [
    {
     "name": "stdout",
     "output_type": "stream",
     "text": [
      "####################### Alternatives #######################\n",
      "Q1 = [0, 2, 4, 1, 7, 3, 1, 1, 8, 7, 6, 8, 3, 2, 9, 1, 2, 6, 5, 0]\n",
      "Q2 = [8, 9, 9, 3, 9, 4, 6, 4, 5, 5, 5, 6, 0, 6, 2, 6, 9, 9, 2, 9]\n"
     ]
    }
   ],
   "source": [
    "Q1, Q2 = make_criterias(A)\n",
    "assert(len(Q1) == len(Q2) == N)\n",
    "print(\" Alternatives \".center(len(Q1)*3, \"#\"))\n",
    "print(f\"Q1 = {Q1}\")\n",
    "print(f\"Q2 = {Q2}\")"
   ]
  },
  {
   "cell_type": "code",
   "execution_count": 5,
   "metadata": {},
   "outputs": [
    {
     "name": "stdout",
     "output_type": "stream",
     "text": [
      "OrderedDict([((0, 8), {'idx': [0], 'remove': False}), ((2, 9), {'idx': [1, 16], 'remove': False}), ((4, 9), {'idx': [2], 'remove': False}), ((1, 3), {'idx': [3], 'remove': False}), ((7, 9), {'idx': [4], 'remove': False}), ((3, 4), {'idx': [5], 'remove': False}), ((1, 6), {'idx': [6, 15], 'remove': False}), ((1, 4), {'idx': [7], 'remove': False}), ((8, 5), {'idx': [8], 'remove': False}), ((7, 5), {'idx': [9], 'remove': False}), ((6, 5), {'idx': [10], 'remove': False}), ((8, 6), {'idx': [11], 'remove': False}), ((3, 0), {'idx': [12], 'remove': False}), ((2, 6), {'idx': [13], 'remove': False}), ((9, 2), {'idx': [14], 'remove': False}), ((6, 9), {'idx': [17], 'remove': False}), ((5, 2), {'idx': [18], 'remove': False}), ((0, 9), {'idx': [19], 'remove': False})])\n"
     ]
    }
   ],
   "source": [
    "# Create all criterias pairs(in this case)\n",
    "X = OrderedDict()\n",
    "\n",
    "for i in range(N):\n",
    "    # check if criteria exist\n",
    "    v = X.get((Q1[i], Q2[i]))\n",
    "    if v:\n",
    "        v[\"idx\"].append(i) # just add id to list\n",
    "    else:\n",
    "        X[(Q1[i], Q2[i])] = {\"idx\": [i], \"remove\": False}\n",
    "print(X)"
   ]
  },
  {
   "cell_type": "code",
   "execution_count": 6,
   "metadata": {
    "scrolled": false
   },
   "outputs": [],
   "source": [
    "def optimal_by_pareto(x: OrderedDict, released=False, details=False) -> OrderedDict:\n",
    "    X = deepcopy(x)\n",
    "    keys = list(X.keys())\n",
    "    N = len(X)\n",
    "    if N < 1:\n",
    "        return X\n",
    "    \n",
    "    def check_pareto(crit1, crit2):\n",
    "        # if all c1 is >= then c2, remove c2\n",
    "        if X[keys[crit1]][\"remove\"] or X[keys[crit2]][\"remove\"]:\n",
    "            return False\n",
    "        remove = True\n",
    "        for c1, c2 in  zip(keys[crit1], keys[crit2]):\n",
    "            if c2 > c1 or (released and c2 == c1):\n",
    "                remove = False\n",
    "                break\n",
    "        \n",
    "        if remove:\n",
    "            X[keys[crit2]][\"removed_by\"] = min(X[keys[crit1]][\"idx\"])\n",
    "        # remove items while iterating is bad, so just mark them\n",
    "        X[keys[crit2]][\"remove\"] = remove\n",
    "        return remove    \n",
    "    \n",
    "    i = 0\n",
    "    j = 1\n",
    "    while i < N-1:\n",
    "        while j < N:\n",
    "            if check_pareto(i, j) or not check_pareto(j, i):\n",
    "                j += 1\n",
    "                continue\n",
    "            break\n",
    "\n",
    "        i += 1\n",
    "        j = i + 1\n",
    "\n",
    "    # form final optimal set\n",
    "    P = set()\n",
    "    for k,v in X.items():\n",
    "        if not v[\"remove\"]:\n",
    "            P.add(k)\n",
    "\n",
    "    # show by which element it was kicked off\n",
    "    if details:\n",
    "        to_exl = {}\n",
    "        for k,v in X.items():\n",
    "            r_by = v.get(\"removed_by\")\n",
    "            if r_by is None:\n",
    "                r_by = \" \"\n",
    "            for i in v[\"idx\"]:\n",
    "                to_exl[i] = str(r_by)\n",
    "        print(\", \".join([to_exl[k] for k in sorted(to_exl.keys())]))\n",
    "    return P"
   ]
  },
  {
   "cell_type": "code",
   "execution_count": 7,
   "metadata": {},
   "outputs": [
    {
     "name": "stdout",
     "output_type": "stream",
     "text": [
      "1, 2, 4, 2,  , 4, 4, 4, 11, 4, 4,  , 4, 4,  , 4, 2, 4, 4, 4\n"
     ]
    },
    {
     "data": {
      "text/plain": [
       "{(7, 9), (8, 6), (9, 2)}"
      ]
     },
     "execution_count": 7,
     "metadata": {},
     "output_type": "execute_result"
    }
   ],
   "source": [
    "optimal_by_pareto(X, details=True)"
   ]
  },
  {
   "cell_type": "code",
   "execution_count": 8,
   "metadata": {},
   "outputs": [
    {
     "name": "stdout",
     "output_type": "stream",
     "text": [
      "1,  ,  , 1,  , 2, 1, 1,  , 11, 4,  , 2, 2,  , 1,  ,  , 4,  \n"
     ]
    },
    {
     "data": {
      "text/plain": [
       "{(0, 9), (2, 9), (4, 9), (6, 9), (7, 9), (8, 5), (8, 6), (9, 2)}"
      ]
     },
     "execution_count": 8,
     "metadata": {},
     "output_type": "execute_result"
    }
   ],
   "source": [
    "optimal_by_pareto(X, True, details=True)"
   ]
  },
  {
   "cell_type": "code",
   "execution_count": 9,
   "metadata": {},
   "outputs": [],
   "source": [
    "def draw_plot(pairs, optimal):\n",
    "    plt.figure(figsize=(10,10))\n",
    "    plt.rcParams.update({'font.size': 11})\n",
    "    for (x,y), v in pairs.items():\n",
    "        plt.plot(x, y, 'ko')\n",
    "        lable = \"\"\n",
    "        for i in v[\"idx\"]:\n",
    "            lable += f\"A{i}=\"\n",
    "        lable = lable[:-1] # remove last '='\n",
    "\n",
    "        plt.annotate(lable, (x,y),\n",
    "                     textcoords=\"offset points\", # how to position the text\n",
    "                     xytext=(0,10), # distance from text to points (x,y)\n",
    "                     ha='left')\n",
    "\n",
    "    plt.xlabel(\"Q1\")\n",
    "    plt.ylabel(\"Q2\")\n",
    "    # TODO: not shure sort is fine\n",
    "    plt.plot(*zip(*sorted(optimal, key=lambda x: (x[0], -x[1]), reverse=True)))\n",
    "    plt.grid(True)\n",
    "    plt.xticks(range(max(pairs.keys(), key = itemgetter(0))[0]+3))\n",
    "    plt.yticks(range(max(pairs.keys(), key = itemgetter(1))[1]+3))\n",
    "    plt.show()"
   ]
  },
  {
   "cell_type": "code",
   "execution_count": 10,
   "metadata": {},
   "outputs": [
    {
     "data": {
      "image/png": "[encoded data removed]",
      "text/plain": [
       "<Figure size 720x720 with 1 Axes>"
      ]
     },
     "metadata": {
      "needs_background": "light"
     },
     "output_type": "display_data"
    }
   ],
   "source": [
    "draw_plot(X, optimal_by_pareto(X))"
   ]
  },
  {
   "cell_type": "code",
   "execution_count": 11,
   "metadata": {},
   "outputs": [
    {
     "data": {
      "image/png": "[encoded data removed]",
      "text/plain": [
       "<Figure size 720x720 with 1 Axes>"
      ]
     },
     "metadata": {
      "needs_background": "light"
     },
     "output_type": "display_data"
    }
   ],
   "source": [
    "draw_plot(X, optimal_by_pareto(X, True))"
   ]
  }
 ],
 "metadata": {
  "kernelspec": {
   "display_name": "Python 3",
   "language": "python",
   "name": "python3"
  },
  "language_info": {
   "codemirror_mode": {
    "name": "ipython",
    "version": 3
   },
   "file_extension": ".py",
   "mimetype": "text/x-python",
   "name": "python",
   "nbconvert_exporter": "python",
   "pygments_lexer": "ipython3",
   "version": "3.8.2"
  }
 },
 "nbformat": 4,
 "nbformat_minor": 4
}
