{
 "cells": [
  {
   "cell_type": "code",
   "execution_count": 10,
   "metadata": {},
   "outputs": [],
   "source": [
    "from typing import Tuple, List"
   ]
  },
  {
   "cell_type": "code",
   "execution_count": 12,
   "metadata": {},
   "outputs": [],
   "source": [
    "# parse input\n",
    "def make_criterias(A: List[int]) -> (List[int], List[int]):\n",
    "    Q1 = []\n",
    "    Q2 = []\n",
    "    for i in A:\n",
    "        assert(i < 100)\n",
    "        Q1.append(i//10)\n",
    "        Q2.append(i%10)\n",
    "    return (Q1, Q2)"
   ]
  },
  {
   "cell_type": "code",
   "execution_count": 13,
   "metadata": {},
   "outputs": [],
   "source": [
    "A = [79, 95, 4, 37, 92, 95, 12, 52, 70, 14]"
   ]
  },
  {
   "cell_type": "code",
   "execution_count": 29,
   "metadata": {},
   "outputs": [
    {
     "name": "stdout",
     "output_type": "stream",
     "text": [
      "######## Alternatives ########\n",
      "Q1 = [7, 9, 0, 3, 9, 9, 1, 5, 7, 1]\n",
      "Q2 = [9, 5, 4, 7, 2, 5, 2, 2, 0, 4]\n"
     ]
    }
   ],
   "source": [
    "Q1, Q2 = make_criterias(A)\n",
    "print(\" Alternatives \".center(len(Q1)*3, \"#\"))\n",
    "print(f\"Q1 = {Q1}\")\n",
    "print(f\"Q2 = {Q2}\")"
   ]
  }
 ],
 "metadata": {
  "kernelspec": {
   "display_name": "Python 3",
   "language": "python",
   "name": "python3"
  },
  "language_info": {
   "codemirror_mode": {
    "name": "ipython",
    "version": 3
   },
   "file_extension": ".py",
   "mimetype": "text/x-python",
   "name": "python",
   "nbconvert_exporter": "python",
   "pygments_lexer": "ipython3",
   "version": "3.8.2"
  }
 },
 "nbformat": 4,
 "nbformat_minor": 4
}
