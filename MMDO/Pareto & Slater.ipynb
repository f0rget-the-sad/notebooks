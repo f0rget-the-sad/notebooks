{
 "cells": [
  {
   "cell_type": "code",
   "execution_count": 55,
   "metadata": {},
   "outputs": [],
   "source": [
    "from typing import Tuple, List\n",
    "from collections import OrderedDict\n",
    "from copy import deepcopy\n",
    "import matplotlib.pyplot as plt\n",
    "from operator import itemgetter"
   ]
  },
  {
   "cell_type": "code",
   "execution_count": 2,
   "metadata": {},
   "outputs": [],
   "source": [
    "# parse input\n",
    "def make_criterias(A: List[int]) -> (List[int], List[int]):\n",
    "    Q1 = []\n",
    "    Q2 = []\n",
    "    for i in A:\n",
    "        assert(i < 100)\n",
    "        Q1.append(i//10)\n",
    "        Q2.append(i%10)\n",
    "    return (Q1, Q2)"
   ]
  },
  {
   "cell_type": "code",
   "execution_count": 3,
   "metadata": {},
   "outputs": [],
   "source": [
    "A = [79, 95, 4, 37, 92, 95, 12, 52, 70, 14]\n",
    "N = len(A)"
   ]
  },
  {
   "cell_type": "code",
   "execution_count": 4,
   "metadata": {},
   "outputs": [
    {
     "name": "stdout",
     "output_type": "stream",
     "text": [
      "######## Alternatives ########\n",
      "Q1 = [7, 9, 0, 3, 9, 9, 1, 5, 7, 1]\n",
      "Q2 = [9, 5, 4, 7, 2, 5, 2, 2, 0, 4]\n"
     ]
    }
   ],
   "source": [
    "Q1, Q2 = make_criterias(A)\n",
    "assert(len(Q1) == len(Q2) == N)\n",
    "print(\" Alternatives \".center(len(Q1)*3, \"#\"))\n",
    "print(f\"Q1 = {Q1}\")\n",
    "print(f\"Q2 = {Q2}\")"
   ]
  },
  {
   "cell_type": "code",
   "execution_count": null,
   "metadata": {},
   "outputs": [],
   "source": []
  },
  {
   "cell_type": "code",
   "execution_count": 5,
   "metadata": {},
   "outputs": [
    {
     "name": "stdout",
     "output_type": "stream",
     "text": [
      "OrderedDict([((7, 9), {'idx': [0], 'remove': False}), ((9, 5), {'idx': [1, 5], 'remove': False}), ((0, 4), {'idx': [2], 'remove': False}), ((3, 7), {'idx': [3], 'remove': False}), ((9, 2), {'idx': [4], 'remove': False}), ((1, 2), {'idx': [6], 'remove': False}), ((5, 2), {'idx': [7], 'remove': False}), ((7, 0), {'idx': [8], 'remove': False}), ((1, 4), {'idx': [9], 'remove': False})])\n"
     ]
    }
   ],
   "source": [
    "# Create all criterias pairs(in this case)\n",
    "X = OrderedDict()\n",
    "\n",
    "for i in range(N):\n",
    "    # check if criteria exist\n",
    "    v = X.get((Q1[i], Q2[i]))\n",
    "    if v:\n",
    "        v[\"idx\"].append(i) # just add id to list\n",
    "    else:\n",
    "        X[(Q1[i], Q2[i])] = {\"idx\": [i], \"remove\": False}\n",
    "print(X)"
   ]
  },
  {
   "cell_type": "code",
   "execution_count": 6,
   "metadata": {
    "scrolled": false
   },
   "outputs": [],
   "source": [
    "# remove items while iterating is bad, so just mark them\n",
    "def optimal_by_pareto(x: OrderedDict, released=False) -> OrderedDict:\n",
    "    X = deepcopy(x)\n",
    "    # def is_crit_optimal(crit):\n",
    "    # non_pareto = set()\n",
    "    # print(X)\n",
    "    keys = list(X.keys())\n",
    "    N = len(X)\n",
    "    if N < 1:\n",
    "        return X\n",
    "    \n",
    "    def check_pareto(crit1, crit2):\n",
    "        # if all c1 is >= then c2, remove c2\n",
    "        if X[keys[crit1]][\"remove\"] or X[keys[crit2]][\"remove\"]:\n",
    "            return False\n",
    "        remove = True\n",
    "        # print(keys[crit1], keys[crit2])\n",
    "        for c1, c2 in  zip(keys[crit1], keys[crit2]):\n",
    "            if c2 > c1 or (released and c2 == c1):\n",
    "                remove = False\n",
    "                break\n",
    "        X[keys[crit2]][\"remove\"] = remove\n",
    "        return remove    \n",
    "    \n",
    "    i = 0\n",
    "    j = 1\n",
    "    while i < N-1:\n",
    "        while j < N:\n",
    "            if check_pareto(i, j) or not check_pareto(j, i):\n",
    "                j += 1\n",
    "                continue\n",
    "            break\n",
    "\n",
    "        i += 1\n",
    "        j = i + 1\n",
    "    \n",
    "    P = set()\n",
    "    for k,v in X.items():\n",
    "        if not v[\"remove\"]:\n",
    "            P.add(k)\n",
    "    return P"
   ]
  },
  {
   "cell_type": "code",
   "execution_count": 7,
   "metadata": {},
   "outputs": [
    {
     "data": {
      "text/plain": [
       "{(7, 9), (9, 5)}"
      ]
     },
     "execution_count": 7,
     "metadata": {},
     "output_type": "execute_result"
    }
   ],
   "source": [
    "optimal_by_pareto(X)"
   ]
  },
  {
   "cell_type": "code",
   "execution_count": 8,
   "metadata": {},
   "outputs": [
    {
     "data": {
      "text/plain": [
       "{(7, 9), (9, 2), (9, 5)}"
      ]
     },
     "execution_count": 8,
     "metadata": {},
     "output_type": "execute_result"
    }
   ],
   "source": [
    "optimal_by_pareto(X, True)"
   ]
  },
  {
   "cell_type": "code",
   "execution_count": 80,
   "metadata": {},
   "outputs": [],
   "source": [
    "def draw_plot(pairs, optimal):\n",
    "    \n",
    "    for (x,y), v in pairs.items():\n",
    "        plt.plot(x, y, 'ko')\n",
    "        lable = \"\"\n",
    "        for i in v[\"idx\"]:\n",
    "            lable += f\"A{i+1}=\"\n",
    "        lable = lable[:-1] # remove last '='\n",
    "\n",
    "        plt.annotate(lable, (x,y),\n",
    "                     textcoords=\"offset points\", # how to position the text\n",
    "                     xytext=(0,10), # distance from text to points (x,y)\n",
    "                     ha='left')\n",
    "\n",
    "    plt.xlabel(\"Q1\")\n",
    "    plt.ylabel(\"Q2\")\n",
    "\n",
    "    plt.plot(*zip(*optimal))\n",
    "    plt.grid(True)\n",
    "    plt.xticks(range(max(pairs.keys(), key = itemgetter(0))[0]+2))\n",
    "    plt.yticks(range(max(pairs.keys(), key = itemgetter(1))[1]+2))\n",
    "    plt.show()"
   ]
  },
  {
   "cell_type": "code",
   "execution_count": 81,
   "metadata": {},
   "outputs": [
    {
     "data": {
      "image/png": "[encoded data removed]",
      "text/plain": [
       "<Figure size 432x288 with 1 Axes>"
      ]
     },
     "metadata": {
      "needs_background": "light"
     },
     "output_type": "display_data"
    }
   ],
   "source": [
    "draw_plot(X, optimal_by_pareto(X))"
   ]
  },
  {
   "cell_type": "code",
   "execution_count": 82,
   "metadata": {},
   "outputs": [
    {
     "data": {
      "image/png": "[encoded data removed]",
      "text/plain": [
       "<Figure size 432x288 with 1 Axes>"
      ]
     },
     "metadata": {
      "needs_background": "light"
     },
     "output_type": "display_data"
    }
   ],
   "source": [
    "draw_plot(X, optimal_by_pareto(X, True))"
   ]
  }
 ],
 "metadata": {
  "kernelspec": {
   "display_name": "Python 3",
   "language": "python",
   "name": "python3"
  },
  "language_info": {
   "codemirror_mode": {
    "name": "ipython",
    "version": 3
   },
   "file_extension": ".py",
   "mimetype": "text/x-python",
   "name": "python",
   "nbconvert_exporter": "python",
   "pygments_lexer": "ipython3",
   "version": "3.8.2"
  }
 },
 "nbformat": 4,
 "nbformat_minor": 4
}
